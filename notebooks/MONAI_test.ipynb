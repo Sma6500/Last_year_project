{
 "cells": [
  {
   "cell_type": "code",
   "execution_count": 3,
   "metadata": {},
   "outputs": [
    {
     "name": "stdout",
     "output_type": "stream",
     "text": [
      "Defaulting to user installation because normal site-packages is not writeable\n",
      "Requirement already satisfied: monai in /homes/l18ollie/.local/lib/python3.8/site-packages (0.7.0)\n",
      "Requirement already satisfied: torch>=1.5 in /usr/home/linux/virtualenv/deeplearning-u20/lib/python3.8/site-packages (from monai) (1.6.0)\n",
      "Requirement already satisfied: numpy>=1.17 in /usr/home/linux/virtualenv/deeplearning-u20/lib/python3.8/site-packages (from monai) (1.18.5)\n",
      "Requirement already satisfied: future in /usr/home/linux/virtualenv/deeplearning-u20/lib/python3.8/site-packages (from torch>=1.5->monai) (0.18.2)\n"
     ]
    }
   ],
   "source": [
    "!pip install monai"
   ]
  },
  {
   "cell_type": "code",
   "execution_count": null,
   "metadata": {},
   "outputs": [
    {
     "name": "stderr",
     "output_type": "stream",
     "text": [
      "ERROR:root:Internal Python error in the inspect module.\n",
      "Below is the traceback from this internal error.\n",
      "\n"
     ]
    },
    {
     "name": "stdout",
     "output_type": "stream",
     "text": [
      "Traceback (most recent call last):\n",
      "  File \"/opt/campux/virtualenv/deeplearning-u20/lib/python3.8/site-packages/IPython/core/interactiveshell.py\", line 3417, in run_code\n",
      "    exec(code_obj, self.user_global_ns, self.user_ns)\n",
      "  File \"<ipython-input-1-35c2f63d1bd7>\", line 1, in <module>\n",
      "    from monai.apps import download_url, download_and_extract\n",
      "  File \"/homes/l18ollie/.local/lib/python3.8/site-packages/monai/__init__.py\", line 36, in <module>\n",
      "    from .utils.module import load_submodules  # noqa: E402\n",
      "  File \"/homes/l18ollie/.local/lib/python3.8/site-packages/monai/utils/__init__.py\", line 15, in <module>\n",
      "    from .deprecated import DeprecatedError, deprecated, deprecated_arg\n",
      "  File \"/homes/l18ollie/.local/lib/python3.8/site-packages/monai/utils/deprecated.py\", line 18, in <module>\n",
      "    from monai.utils.module import version_leq\n",
      "  File \"/homes/l18ollie/.local/lib/python3.8/site-packages/monai/utils/module.py\", line 19, in <module>\n",
      "    import torch\n",
      "  File \"/opt/campux/virtualenv/deeplearning-u20/lib/python3.8/site-packages/torch/__init__.py\", line 189, in <module>\n",
      "    from torch._C import *\n",
      "ImportError: numpy.core.multiarray failed to import\n",
      "\n",
      "During handling of the above exception, another exception occurred:\n",
      "\n",
      "Traceback (most recent call last):\n",
      "  File \"/opt/campux/virtualenv/deeplearning-u20/lib/python3.8/site-packages/IPython/core/interactiveshell.py\", line 2044, in showtraceback\n",
      "    stb = value._render_traceback_()\n",
      "AttributeError: 'ImportError' object has no attribute '_render_traceback_'\n",
      "\n",
      "During handling of the above exception, another exception occurred:\n",
      "\n",
      "Traceback (most recent call last):\n",
      "  File \"/opt/campux/virtualenv/deeplearning-u20/lib/python3.8/site-packages/IPython/core/ultratb.py\", line 1169, in get_records\n",
      "    return _fixed_getinnerframes(etb, number_of_lines_of_context, tb_offset)\n",
      "  File \"/opt/campux/virtualenv/deeplearning-u20/lib/python3.8/site-packages/IPython/core/ultratb.py\", line 316, in wrapped\n",
      "    return f(*args, **kwargs)\n",
      "  File \"/opt/campux/virtualenv/deeplearning-u20/lib/python3.8/site-packages/IPython/core/ultratb.py\", line 350, in _fixed_getinnerframes\n",
      "    records = fix_frame_records_filenames(inspect.getinnerframes(etb, context))\n",
      "  File \"/usr/lib/python3.8/inspect.py\", line 1515, in getinnerframes\n",
      "    frameinfo = (tb.tb_frame,) + getframeinfo(tb, context)\n",
      "  File \"/usr/lib/python3.8/inspect.py\", line 1473, in getframeinfo\n",
      "    filename = getsourcefile(frame) or getfile(frame)\n",
      "  File \"/usr/lib/python3.8/inspect.py\", line 708, in getsourcefile\n",
      "    if getattr(getmodule(object, filename), '__loader__', None) is not None:\n",
      "  File \"/usr/lib/python3.8/inspect.py\", line 751, in getmodule\n",
      "    f = getabsfile(module)\n",
      "  File \"/usr/lib/python3.8/inspect.py\", line 720, in getabsfile\n",
      "    _filename = getsourcefile(object) or getfile(object)\n",
      "  File \"/usr/lib/python3.8/inspect.py\", line 705, in getsourcefile\n",
      "    if os.path.exists(filename):\n",
      "  File \"/usr/lib/python3.8/genericpath.py\", line 19, in exists\n",
      "    os.stat(path)\n",
      "KeyboardInterrupt\n"
     ]
    },
    {
     "name": "stderr",
     "output_type": "stream",
     "text": [
      "ERROR:root:Internal Python error in the inspect module.\n",
      "Below is the traceback from this internal error.\n",
      "\n"
     ]
    },
    {
     "name": "stdout",
     "output_type": "stream",
     "text": [
      "Traceback (most recent call last):\n",
      "  File \"/opt/campux/virtualenv/deeplearning-u20/lib/python3.8/site-packages/IPython/core/interactiveshell.py\", line 3417, in run_code\n",
      "    exec(code_obj, self.user_global_ns, self.user_ns)\n",
      "  File \"<ipython-input-1-35c2f63d1bd7>\", line 1, in <module>\n",
      "    from monai.apps import download_url, download_and_extract\n",
      "  File \"/homes/l18ollie/.local/lib/python3.8/site-packages/monai/__init__.py\", line 36, in <module>\n",
      "    from .utils.module import load_submodules  # noqa: E402\n",
      "  File \"/homes/l18ollie/.local/lib/python3.8/site-packages/monai/utils/__init__.py\", line 15, in <module>\n",
      "    from .deprecated import DeprecatedError, deprecated, deprecated_arg\n",
      "  File \"/homes/l18ollie/.local/lib/python3.8/site-packages/monai/utils/deprecated.py\", line 18, in <module>\n",
      "    from monai.utils.module import version_leq\n",
      "  File \"/homes/l18ollie/.local/lib/python3.8/site-packages/monai/utils/module.py\", line 19, in <module>\n",
      "    import torch\n",
      "  File \"/opt/campux/virtualenv/deeplearning-u20/lib/python3.8/site-packages/torch/__init__.py\", line 189, in <module>\n",
      "    from torch._C import *\n",
      "ImportError: numpy.core.multiarray failed to import\n",
      "\n",
      "During handling of the above exception, another exception occurred:\n",
      "\n",
      "Traceback (most recent call last):\n",
      "  File \"/opt/campux/virtualenv/deeplearning-u20/lib/python3.8/site-packages/IPython/core/interactiveshell.py\", line 2044, in showtraceback\n",
      "    stb = value._render_traceback_()\n",
      "AttributeError: 'ImportError' object has no attribute '_render_traceback_'\n",
      "\n",
      "During handling of the above exception, another exception occurred:\n",
      "\n",
      "Traceback (most recent call last):\n",
      "  File \"/opt/campux/virtualenv/deeplearning-u20/lib/python3.8/site-packages/IPython/core/interactiveshell.py\", line 3337, in run_ast_nodes\n",
      "    if (await self.run_code(code, result,  async_=asy)):\n",
      "  File \"/opt/campux/virtualenv/deeplearning-u20/lib/python3.8/site-packages/IPython/core/interactiveshell.py\", line 3434, in run_code\n",
      "    self.showtraceback(running_compiled_code=True)\n",
      "  File \"/opt/campux/virtualenv/deeplearning-u20/lib/python3.8/site-packages/IPython/core/interactiveshell.py\", line 2046, in showtraceback\n",
      "    stb = self.InteractiveTB.structured_traceback(etype,\n",
      "  File \"/opt/campux/virtualenv/deeplearning-u20/lib/python3.8/site-packages/IPython/core/ultratb.py\", line 1435, in structured_traceback\n",
      "    return FormattedTB.structured_traceback(\n",
      "  File \"/opt/campux/virtualenv/deeplearning-u20/lib/python3.8/site-packages/IPython/core/ultratb.py\", line 1335, in structured_traceback\n",
      "    return VerboseTB.structured_traceback(\n",
      "  File \"/opt/campux/virtualenv/deeplearning-u20/lib/python3.8/site-packages/IPython/core/ultratb.py\", line 1192, in structured_traceback\n",
      "    formatted_exception = self.format_exception_as_a_whole(etype, evalue, etb, number_of_lines_of_context,\n",
      "  File \"/opt/campux/virtualenv/deeplearning-u20/lib/python3.8/site-packages/IPython/core/ultratb.py\", line 1150, in format_exception_as_a_whole\n",
      "    last_unique, recursion_repeat = find_recursion(orig_etype, evalue, records)\n",
      "  File \"/opt/campux/virtualenv/deeplearning-u20/lib/python3.8/site-packages/IPython/core/ultratb.py\", line 451, in find_recursion\n",
      "    return len(records), 0\n",
      "TypeError: object of type 'NoneType' has no len()\n",
      "\n",
      "During handling of the above exception, another exception occurred:\n",
      "\n",
      "Traceback (most recent call last):\n",
      "  File \"/opt/campux/virtualenv/deeplearning-u20/lib/python3.8/site-packages/IPython/core/interactiveshell.py\", line 2044, in showtraceback\n",
      "    stb = value._render_traceback_()\n",
      "AttributeError: 'TypeError' object has no attribute '_render_traceback_'\n",
      "\n",
      "During handling of the above exception, another exception occurred:\n",
      "\n",
      "Traceback (most recent call last):\n",
      "  File \"/opt/campux/virtualenv/deeplearning-u20/lib/python3.8/site-packages/IPython/core/ultratb.py\", line 1169, in get_records\n",
      "    return _fixed_getinnerframes(etb, number_of_lines_of_context, tb_offset)\n",
      "  File \"/opt/campux/virtualenv/deeplearning-u20/lib/python3.8/site-packages/IPython/core/ultratb.py\", line 316, in wrapped\n",
      "    return f(*args, **kwargs)\n",
      "  File \"/opt/campux/virtualenv/deeplearning-u20/lib/python3.8/site-packages/IPython/core/ultratb.py\", line 350, in _fixed_getinnerframes\n",
      "    records = fix_frame_records_filenames(inspect.getinnerframes(etb, context))\n",
      "  File \"/usr/lib/python3.8/inspect.py\", line 1515, in getinnerframes\n",
      "    frameinfo = (tb.tb_frame,) + getframeinfo(tb, context)\n",
      "  File \"/usr/lib/python3.8/inspect.py\", line 1473, in getframeinfo\n",
      "    filename = getsourcefile(frame) or getfile(frame)\n",
      "  File \"/usr/lib/python3.8/inspect.py\", line 708, in getsourcefile\n",
      "    if getattr(getmodule(object, filename), '__loader__', None) is not None:\n",
      "  File \"/usr/lib/python3.8/inspect.py\", line 751, in getmodule\n",
      "    f = getabsfile(module)\n",
      "  File \"/usr/lib/python3.8/inspect.py\", line 720, in getabsfile\n",
      "    _filename = getsourcefile(object) or getfile(object)\n",
      "  File \"/usr/lib/python3.8/inspect.py\", line 705, in getsourcefile\n",
      "    if os.path.exists(filename):\n",
      "  File \"/usr/lib/python3.8/genericpath.py\", line 19, in exists\n",
      "    os.stat(path)\n",
      "KeyboardInterrupt\n"
     ]
    },
    {
     "name": "stderr",
     "output_type": "stream",
     "text": [
      "ERROR:root:Internal Python error in the inspect module.\n",
      "Below is the traceback from this internal error.\n",
      "\n"
     ]
    },
    {
     "name": "stdout",
     "output_type": "stream",
     "text": [
      "Traceback (most recent call last):\n",
      "  File \"/opt/campux/virtualenv/deeplearning-u20/lib/python3.8/site-packages/IPython/core/interactiveshell.py\", line 3417, in run_code\n",
      "    exec(code_obj, self.user_global_ns, self.user_ns)\n",
      "  File \"<ipython-input-1-35c2f63d1bd7>\", line 1, in <module>\n",
      "    from monai.apps import download_url, download_and_extract\n",
      "  File \"/homes/l18ollie/.local/lib/python3.8/site-packages/monai/__init__.py\", line 36, in <module>\n",
      "    from .utils.module import load_submodules  # noqa: E402\n",
      "  File \"/homes/l18ollie/.local/lib/python3.8/site-packages/monai/utils/__init__.py\", line 15, in <module>\n",
      "    from .deprecated import DeprecatedError, deprecated, deprecated_arg\n",
      "  File \"/homes/l18ollie/.local/lib/python3.8/site-packages/monai/utils/deprecated.py\", line 18, in <module>\n",
      "    from monai.utils.module import version_leq\n",
      "  File \"/homes/l18ollie/.local/lib/python3.8/site-packages/monai/utils/module.py\", line 19, in <module>\n",
      "    import torch\n",
      "  File \"/opt/campux/virtualenv/deeplearning-u20/lib/python3.8/site-packages/torch/__init__.py\", line 189, in <module>\n",
      "    from torch._C import *\n",
      "ImportError: numpy.core.multiarray failed to import\n",
      "\n",
      "During handling of the above exception, another exception occurred:\n",
      "\n",
      "Traceback (most recent call last):\n",
      "  File \"/opt/campux/virtualenv/deeplearning-u20/lib/python3.8/site-packages/IPython/core/interactiveshell.py\", line 2044, in showtraceback\n",
      "    stb = value._render_traceback_()\n",
      "AttributeError: 'ImportError' object has no attribute '_render_traceback_'\n",
      "\n",
      "During handling of the above exception, another exception occurred:\n",
      "\n",
      "Traceback (most recent call last):\n",
      "  File \"/opt/campux/virtualenv/deeplearning-u20/lib/python3.8/site-packages/IPython/core/interactiveshell.py\", line 3337, in run_ast_nodes\n",
      "    if (await self.run_code(code, result,  async_=asy)):\n",
      "  File \"/opt/campux/virtualenv/deeplearning-u20/lib/python3.8/site-packages/IPython/core/interactiveshell.py\", line 3434, in run_code\n",
      "    self.showtraceback(running_compiled_code=True)\n",
      "  File \"/opt/campux/virtualenv/deeplearning-u20/lib/python3.8/site-packages/IPython/core/interactiveshell.py\", line 2046, in showtraceback\n",
      "    stb = self.InteractiveTB.structured_traceback(etype,\n",
      "  File \"/opt/campux/virtualenv/deeplearning-u20/lib/python3.8/site-packages/IPython/core/ultratb.py\", line 1435, in structured_traceback\n",
      "    return FormattedTB.structured_traceback(\n",
      "  File \"/opt/campux/virtualenv/deeplearning-u20/lib/python3.8/site-packages/IPython/core/ultratb.py\", line 1335, in structured_traceback\n",
      "    return VerboseTB.structured_traceback(\n",
      "  File \"/opt/campux/virtualenv/deeplearning-u20/lib/python3.8/site-packages/IPython/core/ultratb.py\", line 1192, in structured_traceback\n",
      "    formatted_exception = self.format_exception_as_a_whole(etype, evalue, etb, number_of_lines_of_context,\n",
      "  File \"/opt/campux/virtualenv/deeplearning-u20/lib/python3.8/site-packages/IPython/core/ultratb.py\", line 1150, in format_exception_as_a_whole\n",
      "    last_unique, recursion_repeat = find_recursion(orig_etype, evalue, records)\n",
      "  File \"/opt/campux/virtualenv/deeplearning-u20/lib/python3.8/site-packages/IPython/core/ultratb.py\", line 451, in find_recursion\n",
      "    return len(records), 0\n",
      "TypeError: object of type 'NoneType' has no len()\n",
      "\n",
      "During handling of the above exception, another exception occurred:\n",
      "\n",
      "Traceback (most recent call last):\n",
      "  File \"/opt/campux/virtualenv/deeplearning-u20/lib/python3.8/site-packages/IPython/core/interactiveshell.py\", line 2044, in showtraceback\n",
      "    stb = value._render_traceback_()\n",
      "AttributeError: 'TypeError' object has no attribute '_render_traceback_'\n",
      "\n",
      "During handling of the above exception, another exception occurred:\n",
      "\n",
      "Traceback (most recent call last):\n",
      "  File \"/opt/campux/virtualenv/deeplearning-u20/lib/python3.8/site-packages/IPython/core/interactiveshell.py\", line 2922, in _run_cell\n",
      "    return runner(coro)\n",
      "  File \"/opt/campux/virtualenv/deeplearning-u20/lib/python3.8/site-packages/IPython/core/async_helpers.py\", line 68, in _pseudo_sync_runner\n",
      "    coro.send(None)\n",
      "  File \"/opt/campux/virtualenv/deeplearning-u20/lib/python3.8/site-packages/IPython/core/interactiveshell.py\", line 3145, in run_cell_async\n",
      "    has_raised = await self.run_ast_nodes(code_ast.body, cell_name,\n",
      "  File \"/opt/campux/virtualenv/deeplearning-u20/lib/python3.8/site-packages/IPython/core/interactiveshell.py\", line 3356, in run_ast_nodes\n",
      "    self.showtraceback()\n",
      "  File \"/opt/campux/virtualenv/deeplearning-u20/lib/python3.8/site-packages/IPython/core/interactiveshell.py\", line 2046, in showtraceback\n",
      "    stb = self.InteractiveTB.structured_traceback(etype,\n",
      "  File \"/opt/campux/virtualenv/deeplearning-u20/lib/python3.8/site-packages/IPython/core/ultratb.py\", line 1435, in structured_traceback\n",
      "    return FormattedTB.structured_traceback(\n",
      "  File \"/opt/campux/virtualenv/deeplearning-u20/lib/python3.8/site-packages/IPython/core/ultratb.py\", line 1335, in structured_traceback\n",
      "    return VerboseTB.structured_traceback(\n",
      "  File \"/opt/campux/virtualenv/deeplearning-u20/lib/python3.8/site-packages/IPython/core/ultratb.py\", line 1210, in structured_traceback\n",
      "    formatted_exceptions += self.format_exception_as_a_whole(etype, evalue, etb, lines_of_context,\n",
      "  File \"/opt/campux/virtualenv/deeplearning-u20/lib/python3.8/site-packages/IPython/core/ultratb.py\", line 1150, in format_exception_as_a_whole\n",
      "    last_unique, recursion_repeat = find_recursion(orig_etype, evalue, records)\n",
      "  File \"/opt/campux/virtualenv/deeplearning-u20/lib/python3.8/site-packages/IPython/core/ultratb.py\", line 451, in find_recursion\n",
      "    return len(records), 0\n",
      "TypeError: object of type 'NoneType' has no len()\n",
      "\n",
      "During handling of the above exception, another exception occurred:\n",
      "\n",
      "Traceback (most recent call last):\n",
      "  File \"/opt/campux/virtualenv/deeplearning-u20/lib/python3.8/site-packages/IPython/core/interactiveshell.py\", line 2044, in showtraceback\n",
      "    stb = value._render_traceback_()\n",
      "AttributeError: 'TypeError' object has no attribute '_render_traceback_'\n",
      "\n",
      "During handling of the above exception, another exception occurred:\n",
      "\n",
      "Traceback (most recent call last):\n",
      "  File \"/opt/campux/virtualenv/deeplearning-u20/lib/python3.8/site-packages/IPython/core/ultratb.py\", line 1169, in get_records\n",
      "    return _fixed_getinnerframes(etb, number_of_lines_of_context, tb_offset)\n",
      "  File \"/opt/campux/virtualenv/deeplearning-u20/lib/python3.8/site-packages/IPython/core/ultratb.py\", line 316, in wrapped\n",
      "    return f(*args, **kwargs)\n",
      "  File \"/opt/campux/virtualenv/deeplearning-u20/lib/python3.8/site-packages/IPython/core/ultratb.py\", line 350, in _fixed_getinnerframes\n",
      "    records = fix_frame_records_filenames(inspect.getinnerframes(etb, context))\n",
      "  File \"/usr/lib/python3.8/inspect.py\", line 1515, in getinnerframes\n",
      "    frameinfo = (tb.tb_frame,) + getframeinfo(tb, context)\n",
      "  File \"/usr/lib/python3.8/inspect.py\", line 1473, in getframeinfo\n",
      "    filename = getsourcefile(frame) or getfile(frame)\n",
      "  File \"/usr/lib/python3.8/inspect.py\", line 708, in getsourcefile\n",
      "    if getattr(getmodule(object, filename), '__loader__', None) is not None:\n",
      "  File \"/usr/lib/python3.8/inspect.py\", line 751, in getmodule\n",
      "    f = getabsfile(module)\n",
      "  File \"/usr/lib/python3.8/inspect.py\", line 720, in getabsfile\n",
      "    _filename = getsourcefile(object) or getfile(object)\n",
      "  File \"/usr/lib/python3.8/inspect.py\", line 705, in getsourcefile\n",
      "    if os.path.exists(filename):\n",
      "  File \"/usr/lib/python3.8/genericpath.py\", line 19, in exists\n",
      "    os.stat(path)\n",
      "KeyboardInterrupt\n"
     ]
    }
   ],
   "source": [
    "from monai.apps import download_url, download_and_extract"
   ]
  },
  {
   "cell_type": "code",
   "execution_count": 3,
   "metadata": {},
   "outputs": [
    {
     "name": "stdout",
     "output_type": "stream",
     "text": [
      "MONAI version: 0.7.0\n",
      "Numpy version: 1.18.5\n",
      "Pytorch version: 1.6.0\n",
      "MONAI flags: HAS_EXT = False, USE_COMPILED = False\n",
      "MONAI rev id: bfa054b9c3064628a21f4c35bbe3132964e91f43\n",
      "\n",
      "Optional dependencies:\n",
      "Pytorch Ignite version: NOT INSTALLED or UNKNOWN VERSION.\n",
      "Nibabel version: 3.2.1\n",
      "scikit-image version: 0.16.2\n",
      "Pillow version: 7.2.0\n",
      "Tensorboard version: 2.3.0\n",
      "gdown version: 4.2.0\n",
      "TorchVision version: 0.7.0\n",
      "tqdm version: 4.62.3\n",
      "lmdb version: NOT INSTALLED or UNKNOWN VERSION.\n",
      "psutil version: 5.5.1\n",
      "pandas version: 0.25.3\n",
      "einops version: NOT INSTALLED or UNKNOWN VERSION.\n",
      "transformers version: NOT INSTALLED or UNKNOWN VERSION.\n",
      "\n",
      "For details about installing the optional dependencies, please visit:\n",
      "    https://docs.monai.io/en/latest/installation.html#installing-the-recommended-dependencies\n",
      "\n"
     ]
    }
   ],
   "source": [
    "import os\n",
    "import matplotlib.pyplot as plt\n",
    "import numpy as np\n",
    "import shutil\n",
    "import tempfile\n",
    "import torch\n",
    "from torch.nn import MSELoss\n",
    "#from monai.apps import download_url, download_and_extract\n",
    "from monai.config import print_config\n",
    "from monai.data import DataLoader, Dataset, CacheDataset\n",
    "from monai.losses import BendingEnergyLoss, MultiScaleLoss, DiceLoss\n",
    "from monai.metrics import DiceMetric\n",
    "from monai.networks.blocks import Warp\n",
    "from monai.networks.nets import LocalNet\n",
    "from monai.transforms import AddChanneld,Compose,LoadImaged,RandAffined,Resized,ScaleIntensityRanged,EnsureTyped\n",
    "from monai.utils import set_determinism, first\n",
    "\n",
    "print_config()\n"
   ]
  },
  {
   "cell_type": "code",
   "execution_count": 4,
   "metadata": {},
   "outputs": [
    {
     "name": "stdout",
     "output_type": "stream",
     "text": [
      "/tmp/tmpe_dtw01m\n"
     ]
    }
   ],
   "source": [
    "\"\"\"\n",
    "Setup data directory\n",
    "\n",
    "You can specify a directory with the MONAI_DATA_DIRECTORY environment variable. \n",
    "This allows you to save results and reuse downloads. \n",
    "If not specified a temporary directory will be used.\n",
    "\"\"\"\n",
    "directory = os.environ.get(\"MONAI_DATA_DIRECTORY\")\n",
    "root_dir = tempfile.mkdtemp() if directory is None else directory\n",
    "print(root_dir)\n"
   ]
  },
  {
   "cell_type": "code",
   "execution_count": 5,
   "metadata": {},
   "outputs": [],
   "source": [
    "#Set dataset path\n",
    "train_size=50\n",
    "val_size=25\n",
    "test_size=25\n",
    "data_dir=\"L2R_2021_Task3_test/mask/neurite-oasis.v1.0\"\n",
    "list_files=os.listdir(data_dir)\n",
    "data_dicts = [\n",
    "    {\n",
    "        \"fixed_image\": os.path.join(data_dir,list_files[idx1],\n",
    "                                    \"aligned_norm.nii.gz\"),\n",
    "        \"moving_image\": os.path.join(data_dir,list_files[idx2],\n",
    "                                    \"aligned_norm.nii.gz\"),\n",
    "        \"fixed_label\": os.path.join(data_dir,list_files[idx1],\n",
    "                                    \"aligned_seg4.nii.gz\"),\n",
    "        \"moving_label\": os.path.join(data_dir,list_files[idx2],\n",
    "                                    \"aligned_seg4.nii.gz\")\n",
    "    }\n",
    "    for idx1,idx2 in zip(np.array(range(1,train_size)),np.hstack((np.random.randint(1,train_size,train_size),\n",
    "        np.random.randint(train_size,train_size+val_size,val_size))))\n",
    "]\n",
    "\n",
    "train_files, val_files = data_dicts[:train_size], data_dicts[train_size:train_size+val_size]\n",
    "\n"
   ]
  },
  {
   "cell_type": "code",
   "execution_count": 6,
   "metadata": {},
   "outputs": [
    {
     "data": {
      "text/plain": [
       "<matplotlib.image.AxesImage at 0x7f24c029a700>"
      ]
     },
     "execution_count": 6,
     "metadata": {},
     "output_type": "execute_result"
    },
    {
     "data": {
      "image/png": "[encoded data removed]",
      "text/plain": [
       "<Figure size 432x288 with 1 Axes>"
      ]
     },
     "metadata": {
      "needs_background": "light"
     },
     "output_type": "display_data"
    }
   ],
   "source": [
    "import nibabel as nib\n",
    "data_dir=\"L2R_2021_Task3_test/mask/neurite-oasis.v1.0\"\n",
    "\n",
    "scan_brain=nib.load(os.path.join(data_dir,\"OASIS_OAS1_0001_MR1/aligned_norm.nii.gz\"))\n",
    "scan_brain_data=scan_brain.get_fdata()\n",
    "scan_seg=nib.load(os.path.join(data_dir,\"OASIS_OAS1_0001_MR1/aligned_seg4.nii.gz\"))\n",
    "scan_seg_data=scan_seg.get_fdata()\n",
    "\n",
    "from utils import show_slices\n",
    "from utils import compute_dice\n",
    "\n",
    "\n",
    "\n",
    "slices_brain=scan_brain_data[:,:,30]\n",
    "slices_seg=scan_seg_data[:,:,30]\n",
    "plt.imshow(slices_brain, cmap=\"gray\",origin=\"lower\")\n",
    "plt.imshow(slices_seg, alpha=0.1,origin=\"lower\",cmap=\"gray\")"
   ]
  },
  {
   "cell_type": "code",
   "execution_count": 7,
   "metadata": {},
   "outputs": [],
   "source": [
    "set_determinism(seed=0)"
   ]
  },
  {
   "cell_type": "code",
   "execution_count": 8,
   "metadata": {},
   "outputs": [],
   "source": [
    "train_transforms = Compose(\n",
    "    [\n",
    "        LoadImaged(\n",
    "            keys=[\"fixed_image\", \"moving_image\", \"fixed_label\", \"moving_label\"]\n",
    "        ),\n",
    "        AddChanneld(\n",
    "            keys=[\"fixed_image\", \"moving_image\", \"fixed_label\", \"moving_label\"]\n",
    "        ),\n",
    "        #ScaleIntensityRanged(\n",
    "         #   keys=[\"fixed_image\", \"moving_image\"],\n",
    "         #   a_min=-285, a_max=3770, b_min=0.0, b_max=1.0, clip=True,\n",
    "        #),\n",
    "        RandAffined(\n",
    "            keys=[\"fixed_image\", \"moving_image\", \"fixed_label\", \"moving_label\"],\n",
    "            mode=('bilinear', 'bilinear', 'nearest', 'nearest'),\n",
    "            prob=1.0, spatial_size=(160, 192, 224),\n",
    "            rotate_range=(0, 0, np.pi / 15), scale_range=(0.1, 0.1, 0.1)\n",
    "        ),\n",
    "        Resized(\n",
    "            keys=[\"fixed_image\", \"moving_image\", \"fixed_label\", \"moving_label\"],\n",
    "            mode=('trilinear', 'trilinear', 'nearest', 'nearest'),\n",
    "            align_corners=(True, True, None, None),\n",
    "            spatial_size=(160, 192, 224)\n",
    "        ),\n",
    "        EnsureTyped(\n",
    "            keys=[\"fixed_image\", \"moving_image\", \"fixed_label\", \"moving_label\"]\n",
    "        )\n",
    "    ]\n",
    ")\n",
    "\n",
    "val_transforms = Compose(\n",
    "    [\n",
    "        LoadImaged(\n",
    "            keys=[\"fixed_image\", \"moving_image\", \"fixed_label\", \"moving_label\"]\n",
    "        ),\n",
    "        AddChanneld(\n",
    "            keys=[\"fixed_image\", \"moving_image\", \"fixed_label\", \"moving_label\"]\n",
    "        ),\n",
    "        #ScaleIntensityRanged(\n",
    "         #   keys=[\"fixed_image\", \"moving_image\"],\n",
    "          #  a_min=-285, a_max=3770, b_min=0.0, b_max=1.0,\n",
    "          #  clip=True,\n",
    "        #),\n",
    "        Resized(\n",
    "            keys=[\"fixed_image\", \"moving_image\", \"fixed_label\", \"moving_label\"],\n",
    "            mode=('trilinear', 'trilinear', 'nearest', 'nearest'),\n",
    "            align_corners=(True, True, None, None),\n",
    "            spatial_size=(160, 192, 224)\n",
    "        ),\n",
    "        EnsureTyped(\n",
    "            keys=[\"fixed_image\", \"moving_image\", \"fixed_label\", \"moving_label\"]\n",
    "        ),\n",
    "    ]\n",
    ")\n"
   ]
  },
  {
   "cell_type": "code",
   "execution_count": 9,
   "metadata": {},
   "outputs": [
    {
     "name": "stdout",
     "output_type": "stream",
     "text": [
      "moving_image shape: torch.Size([192, 160, 224]), moving_label shape: torch.Size([192, 160, 224])\n",
      "fixed_image shape: torch.Size([192, 160, 224]), fixed_label shape: torch.Size([192, 160, 224])\n"
     ]
    },
    {
     "data": {
      "image/png": "[encoded data removed]",
      "text/plain": [
       "<Figure size 864x432 with 4 Axes>"
      ]
     },
     "metadata": {
      "needs_background": "light"
     },
     "output_type": "display_data"
    }
   ],
   "source": [
    "\n",
    "\n",
    "check_ds = Dataset(data=train_files, transform=train_transforms)\n",
    "check_loader = DataLoader(check_ds, batch_size=1)\n",
    "check_data = first(check_loader)\n",
    "fixed_image = check_data[\"fixed_image\"][0][0].permute(1, 0, 2)\n",
    "fixed_label = check_data[\"fixed_label\"][0][0].permute(1, 0, 2)\n",
    "moving_image = check_data[\"moving_image\"][0][0].permute(1, 0, 2)\n",
    "moving_label = check_data[\"moving_label\"][0][0].permute(1, 0, 2)\n",
    "\n",
    "print(f\"moving_image shape: {moving_image.shape}, \"\n",
    "      f\"moving_label shape: {moving_label.shape}\")\n",
    "print(f\"fixed_image shape: {fixed_image.shape}, \"\n",
    "      f\"fixed_label shape: {fixed_label.shape}\")\n",
    "\n",
    "# plot the slice [:, :, 50]\n",
    "plt.figure(\"check\", (12, 6))\n",
    "plt.subplot(1, 4, 1)\n",
    "plt.title(\"moving_image\")\n",
    "plt.imshow(moving_image[:, :, 50], cmap=\"gray\")\n",
    "plt.subplot(1, 4, 2)\n",
    "plt.title(\"moving_label\")\n",
    "plt.imshow(moving_label[:, :, 50])\n",
    "plt.subplot(1, 4, 3)\n",
    "plt.title(\"fixed_image\")\n",
    "plt.imshow(fixed_image[:, :, 50], cmap=\"gray\")\n",
    "plt.subplot(1, 4, 4)\n",
    "plt.title(\"fixed_label\")\n",
    "plt.imshow(fixed_label[:, :, 50])\n",
    "\n",
    "plt.show()\n",
    "plt.show()\n",
    "\n"
   ]
  },
  {
   "cell_type": "code",
   "execution_count": 10,
   "metadata": {},
   "outputs": [
    {
     "name": "stderr",
     "output_type": "stream",
     "text": [
      "Loading dataset: 100%|██████████| 49/49 [00:13<00:00,  3.61it/s]\n"
     ]
    }
   ],
   "source": [
    "\n",
    "\n",
    "train_ds = CacheDataset(data=train_files, transform=train_transforms,\n",
    "                        cache_rate=1.0, num_workers=4)\n",
    "# train_ds = monai.data.Dataset(data=train_files, transform=train_transforms)\n",
    "\n",
    "# use batch_size=2 to load images and use RandCropByPosNegLabeld\n",
    "# to generate 2 x 4 images for network training\n",
    "train_loader = DataLoader(train_ds, batch_size=1, shuffle=True, num_workers=4)\n",
    "\n",
    "val_ds = CacheDataset(data=val_files, transform=val_transforms,\n",
    "                      cache_rate=1.0, num_workers=0)\n",
    "# val_ds = Dataset(data=val_files, transform=val_transforms)\n",
    "val_loader = DataLoader(val_ds, batch_size=1, num_workers=4)\n",
    "\n"
   ]
  },
  {
   "cell_type": "code",
   "execution_count": 13,
   "metadata": {},
   "outputs": [],
   "source": [
    "os.environ['VXM_BACKEND'] = 'pytorch'\n",
    "import voxelmorph as vxm  # nopep8\n",
    "\n",
    "# unet architecture\n",
    "enc_nf = [16, 32, 32, 32]\n",
    "dec_nf = [32, 32, 32, 32, 32, 16, 16]\n",
    "\n",
    "inshape=160,192,224\n",
    "# standard PyTorch program style: create Net, losses and optimizer\n",
    "# Declare the GPU (its name is \"device\")\n",
    "device = torch.device('cuda' if torch.cuda.is_available() else 'cpu')\n",
    "\n",
    "model = vxm.networks.VxmDense(\n",
    "        inshape=inshape,\n",
    "        nb_unet_features=[enc_nf, dec_nf]\n",
    "    ).to(device)\n",
    "\n",
    "\n",
    "#model = LocalNet(\n",
    " #   spatial_dims=3,\n",
    "  #  in_channels=2,\n",
    "   # out_channels=3,\n",
    "    #num_channel_initial=32,\n",
    "    #extract_levels=[0, 1, 2, 3],\n",
    "    #out_activation=None,\n",
    "    #out_kernel_initializer=\"zeros\").to(device)\n",
    "#warp_layer = Warp().to(device)\n",
    "\n",
    "image_loss = MSELoss()\n",
    "label_loss = DiceLoss()\n",
    "label_loss = MultiScaleLoss(label_loss, scales=[0, 1, 2, 4, 8, 16])\n",
    "regularization = BendingEnergyLoss()\n",
    "optimizer = torch.optim.Adam(model.parameters(), 1e-5)\n",
    "dice_metric = DiceMetric(include_background=True, reduction=\"mean\", get_not_nans=False)\n",
    "\n"
   ]
  },
  {
   "cell_type": "code",
   "execution_count": 16,
   "metadata": {},
   "outputs": [
    {
     "ename": "UnboundLocalError",
     "evalue": "local variable 'fixed_image' referenced before assignment",
     "output_type": "error",
     "traceback": [
      "\u001b[0;31m---------------------------------------------------------------------------\u001b[0m",
      "\u001b[0;31mUnboundLocalError\u001b[0m                         Traceback (most recent call last)",
      "\u001b[0;32m<ipython-input-16-6fef2d935a0a>\u001b[0m in \u001b[0;36m<module>\u001b[0;34m\u001b[0m\n\u001b[1;32m      1\u001b[0m \u001b[0mt\u001b[0m\u001b[0;34m=\u001b[0m\u001b[0mfirst\u001b[0m\u001b[0;34m(\u001b[0m\u001b[0mtrain_ds\u001b[0m\u001b[0;34m)\u001b[0m\u001b[0;34m\u001b[0m\u001b[0;34m\u001b[0m\u001b[0m\n\u001b[0;32m----> 2\u001b[0;31m \u001b[0mtest\u001b[0m\u001b[0;34m=\u001b[0m\u001b[0mforward\u001b[0m\u001b[0;34m(\u001b[0m\u001b[0mt\u001b[0m\u001b[0;34m,\u001b[0m \u001b[0mmodel\u001b[0m\u001b[0;34m)\u001b[0m\u001b[0;34m\u001b[0m\u001b[0;34m\u001b[0m\u001b[0m\n\u001b[0m",
      "\u001b[0;32m<ipython-input-12-b8d34cf0e075>\u001b[0m in \u001b[0;36mforward\u001b[0;34m(batch_data, model, batch_size, channel_size)\u001b[0m\n\u001b[1;32m      2\u001b[0m \u001b[0;34m\u001b[0m\u001b[0m\n\u001b[1;32m      3\u001b[0m \u001b[0;34m\u001b[0m\u001b[0m\n\u001b[0;32m----> 4\u001b[0;31m     \u001b[0mfixed_image\u001b[0m \u001b[0;34m=\u001b[0m \u001b[0mbatch_data\u001b[0m\u001b[0;34m[\u001b[0m\u001b[0;34m\"fixed_image\"\u001b[0m\u001b[0;34m]\u001b[0m\u001b[0;34m.\u001b[0m\u001b[0mview\u001b[0m\u001b[0;34m(\u001b[0m\u001b[0mbatch_size\u001b[0m\u001b[0;34m,\u001b[0m\u001b[0mchannel_size\u001b[0m\u001b[0;34m,\u001b[0m\u001b[0;34m*\u001b[0m\u001b[0mfixed_image\u001b[0m\u001b[0;34m.\u001b[0m\u001b[0mshape\u001b[0m\u001b[0;34m)\u001b[0m\u001b[0;34m.\u001b[0m\u001b[0mto\u001b[0m\u001b[0;34m(\u001b[0m\u001b[0mdevice\u001b[0m\u001b[0;34m)\u001b[0m\u001b[0;34m\u001b[0m\u001b[0;34m\u001b[0m\u001b[0m\n\u001b[0m\u001b[1;32m      5\u001b[0m     \u001b[0mmoving_image\u001b[0m \u001b[0;34m=\u001b[0m \u001b[0mbatch_data\u001b[0m\u001b[0;34m[\u001b[0m\u001b[0;34m\"moving_image\"\u001b[0m\u001b[0;34m]\u001b[0m\u001b[0;34m.\u001b[0m\u001b[0mview\u001b[0m\u001b[0;34m(\u001b[0m\u001b[0mbatch_size\u001b[0m\u001b[0;34m,\u001b[0m\u001b[0mchannel_size\u001b[0m\u001b[0;34m,\u001b[0m\u001b[0;34m*\u001b[0m\u001b[0mmoving_image\u001b[0m\u001b[0;34m.\u001b[0m\u001b[0mshape\u001b[0m\u001b[0;34m)\u001b[0m\u001b[0;34m.\u001b[0m\u001b[0mto\u001b[0m\u001b[0;34m(\u001b[0m\u001b[0mdevice\u001b[0m\u001b[0;34m)\u001b[0m\u001b[0;34m\u001b[0m\u001b[0;34m\u001b[0m\u001b[0m\n\u001b[1;32m      6\u001b[0m     \u001b[0mmoving_label\u001b[0m \u001b[0;34m=\u001b[0m \u001b[0mbatch_data\u001b[0m\u001b[0;34m[\u001b[0m\u001b[0;34m\"moving_label\"\u001b[0m\u001b[0;34m]\u001b[0m\u001b[0;34m.\u001b[0m\u001b[0mview\u001b[0m\u001b[0;34m(\u001b[0m\u001b[0mbatch_size\u001b[0m\u001b[0;34m,\u001b[0m\u001b[0mchannel_size\u001b[0m\u001b[0;34m,\u001b[0m\u001b[0;34m*\u001b[0m\u001b[0mmoving_label\u001b[0m\u001b[0;34m.\u001b[0m\u001b[0mshape\u001b[0m\u001b[0;34m)\u001b[0m\u001b[0;34m.\u001b[0m\u001b[0mto\u001b[0m\u001b[0;34m(\u001b[0m\u001b[0mdevice\u001b[0m\u001b[0;34m)\u001b[0m\u001b[0;34m\u001b[0m\u001b[0;34m\u001b[0m\u001b[0m\n",
      "\u001b[0;31mUnboundLocalError\u001b[0m: local variable 'fixed_image' referenced before assignment"
     ]
    }
   ],
   "source": [
    "t=first(train_ds)\n",
    "test=forward(t, model)"
   ]
  },
  {
   "cell_type": "code",
   "execution_count": 17,
   "metadata": {},
   "outputs": [],
   "source": [
    "def forward(batch_data, model, batch_size=1, channel_size=1):\n",
    "    \n",
    "        \n",
    "    fixed_image = batch_data[\"fixed_image\"]\n",
    "    fixed_image=fixed_image.view(batch_size,channel_size,*fixed_image.shape).to(device)\n",
    "    moving_image = batch_data[\"moving_image\"]\n",
    "    moving_image= moving_image.view(batch_size,channel_size,*moving_image.shape).to(device)\n",
    "    moving_label = batch_data[\"moving_label\"]\n",
    "    moving_label = moving_label.view(batch_size,channel_size,*moving_label.shape).to(device)\n",
    "    # predict DDF through Net\n",
    "    moved, flow_field = model(moving_image,fixed_image)\n",
    "\n",
    "    # warp moving image and label with the predicted ddf\n",
    "    pred_label = model.transformer(moving_label, flow_field)\n",
    "\n",
    "    return flow_field, moved, pred_label"
   ]
  },
  {
   "cell_type": "code",
   "execution_count": 18,
   "metadata": {},
   "outputs": [
    {
     "ename": "TypeError",
     "evalue": "'NoneType' object is not iterable",
     "output_type": "error",
     "traceback": [
      "\u001b[0;31m---------------------------------------------------------------------------\u001b[0m",
      "\u001b[0;31mTypeError\u001b[0m                                 Traceback (most recent call last)",
      "\u001b[0;32m<ipython-input-18-f633e43e24d5>\u001b[0m in \u001b[0;36m<module>\u001b[0;34m\u001b[0m\n\u001b[1;32m     19\u001b[0m                 \u001b[0mdice_metric\u001b[0m\u001b[0;34m(\u001b[0m\u001b[0my_pred\u001b[0m\u001b[0;34m=\u001b[0m\u001b[0mval_pred_label\u001b[0m\u001b[0;34m,\u001b[0m \u001b[0my\u001b[0m\u001b[0;34m=\u001b[0m\u001b[0mval_fixed_label\u001b[0m\u001b[0;34m)\u001b[0m\u001b[0;34m\u001b[0m\u001b[0;34m\u001b[0m\u001b[0m\n\u001b[1;32m     20\u001b[0m \u001b[0;34m\u001b[0m\u001b[0m\n\u001b[0;32m---> 21\u001b[0;31m             \u001b[0mmetric\u001b[0m \u001b[0;34m=\u001b[0m \u001b[0mdice_metric\u001b[0m\u001b[0;34m.\u001b[0m\u001b[0maggregate\u001b[0m\u001b[0;34m(\u001b[0m\u001b[0;34m)\u001b[0m\u001b[0;34m.\u001b[0m\u001b[0mitem\u001b[0m\u001b[0;34m(\u001b[0m\u001b[0;34m)\u001b[0m\u001b[0;34m\u001b[0m\u001b[0;34m\u001b[0m\u001b[0m\n\u001b[0m\u001b[1;32m     22\u001b[0m             \u001b[0mdice_metric\u001b[0m\u001b[0;34m.\u001b[0m\u001b[0mreset\u001b[0m\u001b[0;34m(\u001b[0m\u001b[0;34m)\u001b[0m\u001b[0;34m\u001b[0m\u001b[0;34m\u001b[0m\u001b[0m\n\u001b[1;32m     23\u001b[0m             \u001b[0mmetric_values\u001b[0m\u001b[0;34m.\u001b[0m\u001b[0mappend\u001b[0m\u001b[0;34m(\u001b[0m\u001b[0mmetric\u001b[0m\u001b[0;34m)\u001b[0m\u001b[0;34m\u001b[0m\u001b[0;34m\u001b[0m\u001b[0m\n",
      "\u001b[0;32m~/.local/lib/python3.8/site-packages/monai/metrics/meandice.py\u001b[0m in \u001b[0;36maggregate\u001b[0;34m(self)\u001b[0m\n\u001b[1;32m     89\u001b[0m \u001b[0;34m\u001b[0m\u001b[0m\n\u001b[1;32m     90\u001b[0m         \"\"\"\n\u001b[0;32m---> 91\u001b[0;31m         \u001b[0mdata\u001b[0m \u001b[0;34m=\u001b[0m \u001b[0mself\u001b[0m\u001b[0;34m.\u001b[0m\u001b[0mget_buffer\u001b[0m\u001b[0;34m(\u001b[0m\u001b[0;34m)\u001b[0m\u001b[0;34m\u001b[0m\u001b[0;34m\u001b[0m\u001b[0m\n\u001b[0m\u001b[1;32m     92\u001b[0m         \u001b[0;32mif\u001b[0m \u001b[0;32mnot\u001b[0m \u001b[0misinstance\u001b[0m\u001b[0;34m(\u001b[0m\u001b[0mdata\u001b[0m\u001b[0;34m,\u001b[0m \u001b[0mtorch\u001b[0m\u001b[0;34m.\u001b[0m\u001b[0mTensor\u001b[0m\u001b[0;34m)\u001b[0m\u001b[0;34m:\u001b[0m\u001b[0;34m\u001b[0m\u001b[0;34m\u001b[0m\u001b[0m\n\u001b[1;32m     93\u001b[0m             \u001b[0;32mraise\u001b[0m \u001b[0mValueError\u001b[0m\u001b[0;34m(\u001b[0m\u001b[0;34m\"the data to aggregate must be PyTorch Tensor.\"\u001b[0m\u001b[0;34m)\u001b[0m\u001b[0;34m\u001b[0m\u001b[0;34m\u001b[0m\u001b[0m\n",
      "\u001b[0;32m~/.local/lib/python3.8/site-packages/monai/metrics/metric.py\u001b[0m in \u001b[0;36mget_buffer\u001b[0;34m(self)\u001b[0m\n\u001b[1;32m    188\u001b[0m         \"\"\"\n\u001b[1;32m    189\u001b[0m         \u001b[0;32mif\u001b[0m \u001b[0;32mnot\u001b[0m \u001b[0mself\u001b[0m\u001b[0;34m.\u001b[0m\u001b[0m_synced\u001b[0m\u001b[0;34m:\u001b[0m\u001b[0;34m\u001b[0m\u001b[0;34m\u001b[0m\u001b[0m\n\u001b[0;32m--> 190\u001b[0;31m             \u001b[0mself\u001b[0m\u001b[0;34m.\u001b[0m\u001b[0m_sync\u001b[0m\u001b[0;34m(\u001b[0m\u001b[0;34m)\u001b[0m\u001b[0;34m\u001b[0m\u001b[0;34m\u001b[0m\u001b[0m\n\u001b[0m\u001b[1;32m    191\u001b[0m         \u001b[0;32mreturn\u001b[0m \u001b[0mself\u001b[0m\u001b[0;34m.\u001b[0m\u001b[0m_synced_tensors\u001b[0m\u001b[0;34m[\u001b[0m\u001b[0;36m0\u001b[0m\u001b[0;34m]\u001b[0m \u001b[0;32mif\u001b[0m \u001b[0mlen\u001b[0m\u001b[0;34m(\u001b[0m\u001b[0mself\u001b[0m\u001b[0;34m.\u001b[0m\u001b[0m_synced_tensors\u001b[0m\u001b[0;34m)\u001b[0m \u001b[0;34m==\u001b[0m \u001b[0;36m1\u001b[0m \u001b[0;32melse\u001b[0m \u001b[0mself\u001b[0m\u001b[0;34m.\u001b[0m\u001b[0m_synced_tensors\u001b[0m\u001b[0;34m\u001b[0m\u001b[0;34m\u001b[0m\u001b[0m\n\u001b[1;32m    192\u001b[0m \u001b[0;34m\u001b[0m\u001b[0m\n",
      "\u001b[0;32m~/.local/lib/python3.8/site-packages/monai/metrics/metric.py\u001b[0m in \u001b[0;36m_sync\u001b[0;34m(self)\u001b[0m\n\u001b[1;32m    178\u001b[0m \u001b[0;34m\u001b[0m\u001b[0m\n\u001b[1;32m    179\u001b[0m         \"\"\"\n\u001b[0;32m--> 180\u001b[0;31m         \u001b[0mself\u001b[0m\u001b[0;34m.\u001b[0m\u001b[0m_synced_tensors\u001b[0m \u001b[0;34m=\u001b[0m \u001b[0;34m[\u001b[0m\u001b[0mevenly_divisible_all_gather\u001b[0m\u001b[0;34m(\u001b[0m\u001b[0mtorch\u001b[0m\u001b[0;34m.\u001b[0m\u001b[0mcat\u001b[0m\u001b[0;34m(\u001b[0m\u001b[0mb\u001b[0m\u001b[0;34m,\u001b[0m \u001b[0mdim\u001b[0m\u001b[0;34m=\u001b[0m\u001b[0;36m0\u001b[0m\u001b[0;34m)\u001b[0m\u001b[0;34m,\u001b[0m \u001b[0mconcat\u001b[0m\u001b[0;34m=\u001b[0m\u001b[0;32mTrue\u001b[0m\u001b[0;34m)\u001b[0m \u001b[0;32mfor\u001b[0m \u001b[0mb\u001b[0m \u001b[0;32min\u001b[0m \u001b[0mself\u001b[0m\u001b[0;34m.\u001b[0m\u001b[0m_buffers\u001b[0m\u001b[0;34m]\u001b[0m\u001b[0;34m\u001b[0m\u001b[0;34m\u001b[0m\u001b[0m\n\u001b[0m\u001b[1;32m    181\u001b[0m         \u001b[0mself\u001b[0m\u001b[0;34m.\u001b[0m\u001b[0m_synced\u001b[0m \u001b[0;34m=\u001b[0m \u001b[0;32mTrue\u001b[0m\u001b[0;34m\u001b[0m\u001b[0;34m\u001b[0m\u001b[0m\n\u001b[1;32m    182\u001b[0m \u001b[0;34m\u001b[0m\u001b[0m\n",
      "\u001b[0;31mTypeError\u001b[0m: 'NoneType' object is not iterable"
     ]
    }
   ],
   "source": [
    "max_epochs = 5\n",
    "val_interval = 1\n",
    "best_metric = -1\n",
    "best_metric_epoch = -1\n",
    "epoch_loss_values = []\n",
    "metric_values = []\n",
    "\n",
    "for epoch in range(max_epochs):\n",
    "    if (epoch + 1) % val_interval == 0 or epoch == 0:\n",
    "        model.eval()\n",
    "        with torch.no_grad():\n",
    "            for val_data in val_loader:\n",
    "\n",
    "                val_ddf, val_pred_image, val_pred_label = forward(\n",
    "                    val_data, model)\n",
    "\n",
    "                val_fixed_image = val_data[\"fixed_image\"].to(device)\n",
    "                val_fixed_label = val_data[\"fixed_label\"].to(device)\n",
    "                dice_metric(y_pred=val_pred_label, y=val_fixed_label)\n",
    "\n",
    "            metric = dice_metric.aggregate().item()\n",
    "            dice_metric.reset()\n",
    "            metric_values.append(metric)\n",
    "            if metric > best_metric:\n",
    "                best_metric = metric\n",
    "                best_metric_epoch = epoch + 1\n",
    "                torch.save(model.state_dict(),\n",
    "                           os.path.join(root_dir, \"best_metric_model.pth\"))\n",
    "                print(\"saved new best metric model\")\n",
    "            print(\n",
    "                f\"current epoch: {epoch + 1} \"\n",
    "                f\"current mean dice: {metric:.4f}\\n\"\n",
    "                f\"best mean dice: {best_metric:.4f} \"\n",
    "                f\"at epoch: {best_metric_epoch}\"\n",
    "            )\n",
    "    print(\"-\" * 10)\n",
    "    print(f\"epoch {epoch + 1}/{max_epochs}\")\n",
    "    model.train()\n",
    "    epoch_loss = 0\n",
    "    step = 0\n",
    "    for batch_data in train_loader:\n",
    "        step += 1\n",
    "        optimizer.zero_grad()\n",
    "\n",
    "        ddf, pred_image, pred_label = forward(batch_data, model)\n",
    "\n",
    "        fixed_image = batch_data[\"fixed_image\"].to(device)\n",
    "        fixed_label = batch_data[\"fixed_label\"].to(device)\n",
    "        loss = image_loss(pred_image, fixed_image) + 100 * \\\n",
    "            label_loss(pred_label, fixed_label) + 10 * regularization(ddf)\n",
    "        loss.backward()\n",
    "        optimizer.step()\n",
    "        epoch_loss += loss.item()\n",
    "\n",
    "    epoch_loss /= step\n",
    "    epoch_loss_values.append(epoch_loss)\n",
    "    print(f\"epoch {epoch + 1} average loss: {epoch_loss:.4f}\")"
   ]
  },
  {
   "cell_type": "code",
   "execution_count": 15,
   "metadata": {},
   "outputs": [
    {
     "ename": "NameError",
     "evalue": "name 'val_pred_label' is not defined",
     "output_type": "error",
     "traceback": [
      "\u001b[0;31m---------------------------------------------------------------------------\u001b[0m",
      "\u001b[0;31mNameError\u001b[0m                                 Traceback (most recent call last)",
      "\u001b[0;32m<ipython-input-15-b9e85cb74662>\u001b[0m in \u001b[0;36m<module>\u001b[0;34m\u001b[0m\n\u001b[0;32m----> 1\u001b[0;31m \u001b[0mval_pred_label\u001b[0m\u001b[0;34m\u001b[0m\u001b[0;34m\u001b[0m\u001b[0m\n\u001b[0m",
      "\u001b[0;31mNameError\u001b[0m: name 'val_pred_label' is not defined"
     ]
    }
   ],
   "source": [
    "val_pred_label"
   ]
  },
  {
   "cell_type": "code",
   "execution_count": null,
   "metadata": {},
   "outputs": [],
   "source": []
  }
 ],
 "metadata": {
  "kernelspec": {
   "display_name": "Python 3 (ipykernel)",
   "language": "python",
   "name": "python3"
  },
  "language_info": {
   "codemirror_mode": {
    "name": "ipython",
    "version": 3
   },
   "file_extension": ".py",
   "mimetype": "text/x-python",
   "name": "python",
   "nbconvert_exporter": "python",
   "pygments_lexer": "ipython3",
   "version": "3.8.10"
  }
 },
 "nbformat": 4,
 "nbformat_minor": 4
}
