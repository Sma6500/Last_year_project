{
 "cells": [
  {
   "cell_type": "markdown",
   "id": "9985e4b5-7802-494b-8664-1caa88d1a601",
   "metadata": {
    "jp-MarkdownHeadingCollapsed": true,
    "tags": []
   },
   "source": [
    "# Introduction to VoxelMorph\n",
    "\n",
    "This is a short tutorial to get started with VoxelMorph: deep-learning based registration. We aim with this notebook to shortly introduce the framework. \n",
    "<br/>\n",
    "<br/>\n",
    "[VoxelMorph Paper](https://arxiv.org/pdf/1809.05231.pdf).\n",
    "<br/>\n",
    "\n",
    "Outline :\n",
    "\n",
    "- Deal with Data (MNIST)\n",
    "- First Registration\n",
    "- Visual Plot\n",
    "- Handle many channels\n"
   ]
  },
  {
   "cell_type": "markdown",
   "id": "b351b46e-a7af-4856-b918-1d9dd3ea36fe",
   "metadata": {
    "tags": []
   },
   "source": [
    "# Preamble\n",
    "## Setup of environment"
   ]
  },
  {
   "cell_type": "code",
   "execution_count": 41,
   "id": "1efeb853-d73c-411b-a065-ebb1bf56d3f7",
   "metadata": {},
   "outputs": [
    {
     "name": "stdout",
     "output_type": "stream",
     "text": [
      "Collecting voxelmorph\n",
      "  Using cached voxelmorph-0.1-py3-none-any.whl (75 kB)\n",
      "Requirement already satisfied: numpy in /home/luther/.local/lib/python3.8/site-packages (from voxelmorph) (1.21.2)\n",
      "Collecting neurite\n",
      "  Using cached neurite-0.1-py3-none-any.whl (86 kB)\n",
      "Requirement already satisfied: nibabel in /home/luther/.local/lib/python3.8/site-packages (from voxelmorph) (3.2.1)\n",
      "Requirement already satisfied: scikit-image in /home/luther/.local/lib/python3.8/site-packages (from voxelmorph) (0.18.3)\n",
      "Requirement already satisfied: h5py in /home/luther/.local/lib/python3.8/site-packages (from voxelmorph) (3.4.0)\n",
      "Requirement already satisfied: scipy in /home/luther/.local/lib/python3.8/site-packages (from voxelmorph) (1.7.1)\n",
      "Requirement already satisfied: matplotlib in /home/luther/.local/lib/python3.8/site-packages (from neurite->voxelmorph) (3.4.3)\n",
      "Requirement already satisfied: scikit-learn in /home/luther/.local/lib/python3.8/site-packages (from neurite->voxelmorph) (1.0)\n",
      "Requirement already satisfied: six in /usr/lib/python3/dist-packages (from neurite->voxelmorph) (1.14.0)\n",
      "Collecting pystrum\n",
      "  Using cached pystrum-0.1-py3-none-any.whl (18 kB)\n",
      "Requirement already satisfied: tqdm in /home/luther/.local/lib/python3.8/site-packages (from neurite->voxelmorph) (4.62.3)\n",
      "Requirement already satisfied: packaging>=14.3 in /home/luther/.local/lib/python3.8/site-packages (from nibabel->voxelmorph) (21.0)\n",
      "Requirement already satisfied: networkx>=2.0 in /home/luther/.local/lib/python3.8/site-packages (from scikit-image->voxelmorph) (2.6.3)\n",
      "Requirement already satisfied: pillow!=7.1.0,!=7.1.1,>=4.3.0 in /usr/lib/python3/dist-packages (from scikit-image->voxelmorph) (7.0.0)\n",
      "Requirement already satisfied: imageio>=2.3.0 in /home/luther/.local/lib/python3.8/site-packages (from scikit-image->voxelmorph) (2.9.0)\n",
      "Requirement already satisfied: tifffile>=2019.7.26 in /home/luther/.local/lib/python3.8/site-packages (from scikit-image->voxelmorph) (2021.8.30)\n",
      "Requirement already satisfied: PyWavelets>=1.1.1 in /home/luther/.local/lib/python3.8/site-packages (from scikit-image->voxelmorph) (1.1.1)\n",
      "Requirement already satisfied: kiwisolver>=1.0.1 in /home/luther/.local/lib/python3.8/site-packages (from matplotlib->neurite->voxelmorph) (1.3.2)\n",
      "Requirement already satisfied: pyparsing>=2.2.1 in /home/luther/.local/lib/python3.8/site-packages (from matplotlib->neurite->voxelmorph) (2.4.7)\n",
      "Requirement already satisfied: cycler>=0.10 in /home/luther/.local/lib/python3.8/site-packages (from matplotlib->neurite->voxelmorph) (0.10.0)\n",
      "Requirement already satisfied: python-dateutil>=2.7 in /usr/lib/python3/dist-packages (from matplotlib->neurite->voxelmorph) (2.7.3)\n",
      "Requirement already satisfied: threadpoolctl>=2.0.0 in /home/luther/.local/lib/python3.8/site-packages (from scikit-learn->neurite->voxelmorph) (2.2.0)\n",
      "Requirement already satisfied: joblib>=0.11 in /home/luther/.local/lib/python3.8/site-packages (from scikit-learn->neurite->voxelmorph) (1.0.1)\n",
      "Installing collected packages: pystrum, neurite, voxelmorph\n",
      "Successfully installed neurite-0.1 pystrum-0.1 voxelmorph-0.1\n"
     ]
    }
   ],
   "source": [
    "# install voxelmorph, which will also install dependencies: neurite and pystrum --> useless with torch\n",
    "!pip install voxelmorph "
   ]
  },
  {
   "cell_type": "markdown",
   "id": "751b45ee-f6d7-4967-ba37-b942b19fba9a",
   "metadata": {},
   "source": [
    "We'll start with some common imports"
   ]
  },
  {
   "cell_type": "code",
   "execution_count": 2,
   "id": "103330aa-55a7-479d-b4cf-1cadc6828e16",
   "metadata": {},
   "outputs": [],
   "source": [
    "# imports\n",
    "import os, sys\n",
    "\n",
    "# third party imports\n",
    "import numpy as np\n",
    "\n",
    "# Import PyTorch\n",
    "import torch\n",
    "import torch.nn as nn\n",
    "import torch.optim as optim\n",
    "import torch.nn.functional as F"
   ]
  },
  {
   "cell_type": "markdown",
   "id": "73ed7d45-ef2d-438d-aa48-a45482e75162",
   "metadata": {},
   "source": [
    "## Data \n",
    "We're going to start by registering 2D MNIST digits. If the data is small (like 2D MNIST), you can often load it in memory, which enables for faster training and testing. If the data is large (large 3D scans), we will likely need to load the scans on demand. More on this later.\n",
    "\n",
    "First, we're going to **load the data**. \n"
   ]
  },
  {
   "cell_type": "code",
   "execution_count": 3,
   "id": "0a7f0fbd-5835-4ca1-97f1-7e6c27dd5937",
   "metadata": {
    "tags": []
   },
   "outputs": [
    {
     "name": "stderr",
     "output_type": "stream",
     "text": [
      "/home/luther/.local/lib/python3.8/site-packages/torchvision/datasets/mnist.py:498: UserWarning: The given NumPy array is not writeable, and PyTorch does not support non-writeable tensors. This means you can write to the underlying (supposedly non-writeable) NumPy array using the tensor. You may want to copy the array to protect its data or make it writeable before converting it to a tensor. This type of warning will be suppressed for the rest of this program. (Triggered internally at  ../torch/csrc/utils/tensor_numpy.cpp:180.)\n",
      "  return torch.from_numpy(parsed.astype(m[2], copy=False)).view(*s)\n"
     ]
    }
   ],
   "source": [
    "import torchvision\n",
    "import torchvision.transforms as transforms \n",
    "\n",
    "from torch.utils.data import DataLoader, Dataset, TensorDataset\n",
    "\n",
    "\"\"\"Une transformations qu'on va appliquer à notre dataset pendant qu'on le charge :\n",
    "     - on pad les images en 32*32 parce que c'est une puissance de 2 c'est mieux pour le DL\n",
    "     - ici on normalise \n",
    "     - enfin on convertit en Tensor\"\"\"\n",
    "\n",
    "t = transforms.Compose([transforms.ToTensor(),\n",
    "                        transforms.Pad([2,2,2,2]), \n",
    "                        transforms.Normalize(mean=(0), std=(1))]\n",
    "                       )\n",
    "\n",
    "#si jamais il est pas download dans votre ordi, set le download à True\n",
    "MNIST_trainset = torchvision.datasets.MNIST(root='./data', train=True, download=False, transform=t)\n",
    "MNIST_testset = torchvision.datasets.MNIST(root='./data', train=False, download=False, transform=t)"
   ]
  },
  {
   "cell_type": "code",
   "execution_count": 4,
   "id": "975a98b6-7fd1-4684-befb-f0b522bbb436",
   "metadata": {},
   "outputs": [
    {
     "name": "stdout",
     "output_type": "stream",
     "text": [
      "shape of train set: Dataset MNIST\n",
      "    Number of datapoints: 60000\n",
      "    Root location: ./data\n",
      "    Split: Train\n",
      "    StandardTransform\n",
      "Transform: Compose(\n",
      "               ToTensor()\n",
      "               Pad(padding=[2, 2, 2, 2], fill=0, padding_mode=constant)\n",
      "               Normalize(mean=0, std=1)\n",
      "           ), \n",
      "\n",
      " test set: Dataset MNIST\n",
      "    Number of datapoints: 10000\n",
      "    Root location: ./data\n",
      "    Split: Test\n",
      "    StandardTransform\n",
      "Transform: Compose(\n",
      "               ToTensor()\n",
      "               Pad(padding=[2, 2, 2, 2], fill=0, padding_mode=constant)\n",
      "               Normalize(mean=0, std=1)\n",
      "           )\n"
     ]
    }
   ],
   "source": [
    "#let's get some shapes to understand what we loaded.\n",
    "print('shape of train set: {}, \\n\\n test set: {}'.format(MNIST_trainset, MNIST_testset))"
   ]
  },
  {
   "cell_type": "markdown",
   "id": "b35887ee-d3de-40f8-b095-842f594dd811",
   "metadata": {},
   "source": [
    "The MNIST dataset method __get_item__(index) just give one image. However we need 2 images for our registrating task : one __fixed__ and one __moved__, so we're going to write a dataset class that will load MNIST dataset, get only one label (as we want to registrate only on specific label) and will give two images in output.\n",
    "<br/> \n",
    "Simplier methods can achieve this task but as we will need to write a Dataset class for our medical images, let's introduce the concept right now."
   ]
  },
  {
   "cell_type": "code",
   "execution_count": 5,
   "id": "f768d378-38f5-4628-802a-a99887ae1a63",
   "metadata": {},
   "outputs": [],
   "source": [
    "class MNIST_registration(Dataset):\n",
    "    \"\"\"\n",
    "    Sample Pytorch Dataset. We just overwrite __getitem__ and __len__ methods.\n",
    "    \"\"\"\n",
    "    def __init__(self, MNIST_dataset,\n",
    "                 digit_sel=5):\n",
    "        \"\"\"\n",
    "        Inputs: the dataset MNIST (train or test), the digit we want to keep and registrate\n",
    "        \"\"\"\n",
    "        \n",
    "        self.digit_sel=digit_sel\n",
    "        \n",
    "        # extract only instances of the digit 5\n",
    "        idx=MNIST_dataset.targets==digit_sel\n",
    "        MNIST_dataset.targets=MNIST_dataset.targets[idx]\n",
    "        MNIST_dataset.data = MNIST_dataset.data[idx]       \n",
    "        self.MNIST_dataset = MNIST_dataset\n",
    "         \n",
    "    def __getitem__(self, index):\n",
    "        \n",
    "        fix=self.MNIST_dataset.__getitem__(index)[0] #we d\n",
    "        \n",
    "        idx2=np.random.randint(0,len(self.MNIST_dataset),1)[0]\n",
    "        moved=self.MNIST_dataset.__getitem__(idx2)[0]\n",
    "        \n",
    "        return (moved,fix)\n",
    "\n",
    "    def __len__(self):\n",
    "        return len(self.MNIST_dataset)\n",
    "\n",
    "MNIST_trainset = MNIST_registration(MNIST_trainset)\n",
    "MNIST_testset = MNIST_registration(MNIST_testset)"
   ]
  },
  {
   "cell_type": "markdown",
   "id": "5b9d412c-c2e5-4ae7-a86c-ade80d9b30e3",
   "metadata": {},
   "source": [
    "**ML detour**: separating your data in *only* train/test **often leads to problems**   \n",
    "You wouldn't want to iteratively (A) build a model, (B) train on training data, and (C) test on test data  \n",
    "Doing so will **overfit to you test set** (because you will have adapted your algorithm to your test data). It's a common mistakes in ML submissions.  \n",
    "\n",
    "We will split the 'training' into 'train/validate' data, and keep the test set for later  \n",
    "And will only look at the test data at the very end (once we're ready to submit the paper!) "
   ]
  },
  {
   "cell_type": "code",
   "execution_count": 8,
   "id": "e3715835-68f8-48ee-8480-71fb00e287b7",
   "metadata": {},
   "outputs": [],
   "source": [
    "import torch\n",
    "from torch.utils.data.sampler import SubsetRandomSampler\n",
    "import numpy as np\n",
    "\n",
    "\n",
    "def create_data_loaders(batch_size, valid_size, train_data, test_data):    \n",
    "    \n",
    "    num_train, num_test = len(train_data), len(test_data)\n",
    "    \n",
    "    test_loader = torch.utils.data.DataLoader(test_data, batch_size = batch_size)\n",
    "\n",
    "    # obtain training indices that will be used for validation\n",
    "    indices = list(range(num_train))\n",
    "    np.random.shuffle(indices)\n",
    "    split = int(np.floor(valid_size * num_train))\n",
    "    train_index, valid_index = indices[split:], indices[:split]\n",
    "\n",
    "    # define samplers for obtaining training and validation batches\n",
    "    train_sampler = SubsetRandomSampler(train_index)\n",
    "    valid_sampler = SubsetRandomSampler(valid_index)\n",
    "\n",
    "    # prepare data loaders\n",
    "    train_loader = torch.utils.data.DataLoader(train_data, batch_size = batch_size, sampler = train_sampler)\n",
    "    valid_loader = torch.utils.data.DataLoader(train_data, batch_size = batch_size, sampler = valid_sampler)\n",
    "\n",
    "    return train_loader, valid_loader, test_loader\n",
    "\n",
    "batch_size=32\n",
    "val_size=0.2\n",
    "\n",
    "train_loader,valid_loader,test_loader=create_data_loaders(batch_size, \n",
    "                                                          val_size, \n",
    "                                                          MNIST_trainset, \n",
    "                                                          MNIST_testset)"
   ]
  },
  {
   "cell_type": "code",
   "execution_count": 10,
   "id": "0598062d-f71f-4fee-8202-88ee3994e72a",
   "metadata": {},
   "outputs": [
    {
     "data": {
      "text/plain": [
       "<matplotlib.image.AxesImage at 0x7f3d05469790>"
      ]
     },
     "execution_count": 10,
     "metadata": {},
     "output_type": "execute_result"
    },
    {
     "data": {
      "image/png": "[encoded data removed]",
      "text/plain": [
       "<Figure size 432x288 with 1 Axes>"
      ]
     },
     "metadata": {
      "needs_background": "light"
     },
     "output_type": "display_data"
    }
   ],
   "source": [
    "import matplotlib.pyplot as plt \n",
    "\n",
    "image, label = MNIST_trainset[0]\n",
    "\n",
    "plt.imshow(image.reshape((32,32)),cmap='gray')"
   ]
  },
  {
   "cell_type": "markdown",
   "id": "0d868021-4cc8-4b66-a7fc-75ba30907d12",
   "metadata": {
    "tags": []
   },
   "source": [
    "### CNN Model\n",
    "\n",
    "Given two images (which we call *moving* and *fixed*), our goal is to find the deformation between them.\n",
    "<br/>\n",
    "In learning-based methods, we use a network that takes in two images $m$ (\"moving\") and $f$ (\"fixed\") (e.g. MNIST digits of size 32x32) and outputs a dense deformation $\\phi$ (e.g. size 32x32x2, because at each pixel we want a vector telling us where to go). Intuitively, this deformation $\\phi$ gives us the correspondances between the images, and tells us how to move the moving image to match with the fixed image. \n",
    "\n",
    "\n",
    "The [VoxelMorph](http://voxelmorph.mit.edu) library provides a `VxmDense` model class for building dense deformation networks. "
   ]
  },
  {
   "cell_type": "code",
   "execution_count": 11,
   "id": "e48683f1-80ac-43ef-a93d-7f59595a7c86",
   "metadata": {},
   "outputs": [],
   "source": [
    "\"\"\"\n",
    "The first thing to do is to import VoxelMorph but as we intend to use pytorch instead of tensorflow \n",
    "we need to put in our environnement (virtual or not) a key to precise it\n",
    "\"\"\"\n",
    "os.environ['VXM_BACKEND']='pytorch' #I set my environnement variable\n",
    "#os.environ.pop('VXM_backend') if you want to clear your environnement after working with VXM\n",
    "import voxelmorph as vxm\n",
    "\n",
    "# configure unet input shape (concatenation of moving and fixed images)\n",
    "ndim = 2\n",
    "inshape=32,32\n",
    "\n",
    "\n",
    "# configure unet features \n",
    "nb_features = [\n",
    "    [32, 32, 32, 32],         # encoder features\n",
    "    [32, 32, 32, 32, 32, 16]  # decoder features\n",
    "]\n",
    "\n",
    "# build model\n",
    "unet = vxm.networks.VxmDense(inshape=inshape, nb_unet_features=nb_features, int_steps=0)\n",
    "#pour aller voir l'implémentation de UNET et vxm\n",
    "#https://github.com/voxelmorph/voxelmorph/blob/dev/voxelmorph/torch/networks.py"
   ]
  },
  {
   "cell_type": "code",
   "execution_count": 12,
   "id": "54203d57-d7a5-46ca-97a9-de545531de10",
   "metadata": {},
   "outputs": [
    {
     "name": "stdout",
     "output_type": "stream",
     "text": [
      "Using device cpu\n"
     ]
    },
    {
     "data": {
      "text/plain": [
       "VxmDense(\n",
       "  (unet_model): Unet(\n",
       "    (upsample): Upsample(scale_factor=2.0, mode=nearest)\n",
       "    (downarm): ModuleList(\n",
       "      (0): ConvBlock(\n",
       "        (main): Conv2d(2, 32, kernel_size=(3, 3), stride=(2, 2), padding=(1, 1))\n",
       "        (activation): LeakyReLU(negative_slope=0.2)\n",
       "      )\n",
       "      (1): ConvBlock(\n",
       "        (main): Conv2d(32, 32, kernel_size=(3, 3), stride=(2, 2), padding=(1, 1))\n",
       "        (activation): LeakyReLU(negative_slope=0.2)\n",
       "      )\n",
       "      (2): ConvBlock(\n",
       "        (main): Conv2d(32, 32, kernel_size=(3, 3), stride=(2, 2), padding=(1, 1))\n",
       "        (activation): LeakyReLU(negative_slope=0.2)\n",
       "      )\n",
       "      (3): ConvBlock(\n",
       "        (main): Conv2d(32, 32, kernel_size=(3, 3), stride=(2, 2), padding=(1, 1))\n",
       "        (activation): LeakyReLU(negative_slope=0.2)\n",
       "      )\n",
       "    )\n",
       "    (uparm): ModuleList(\n",
       "      (0): ConvBlock(\n",
       "        (main): Conv2d(32, 32, kernel_size=(3, 3), stride=(1, 1), padding=(1, 1))\n",
       "        (activation): LeakyReLU(negative_slope=0.2)\n",
       "      )\n",
       "      (1): ConvBlock(\n",
       "        (main): Conv2d(64, 32, kernel_size=(3, 3), stride=(1, 1), padding=(1, 1))\n",
       "        (activation): LeakyReLU(negative_slope=0.2)\n",
       "      )\n",
       "      (2): ConvBlock(\n",
       "        (main): Conv2d(64, 32, kernel_size=(3, 3), stride=(1, 1), padding=(1, 1))\n",
       "        (activation): LeakyReLU(negative_slope=0.2)\n",
       "      )\n",
       "      (3): ConvBlock(\n",
       "        (main): Conv2d(64, 32, kernel_size=(3, 3), stride=(1, 1), padding=(1, 1))\n",
       "        (activation): LeakyReLU(negative_slope=0.2)\n",
       "      )\n",
       "    )\n",
       "    (extras): ModuleList(\n",
       "      (0): ConvBlock(\n",
       "        (main): Conv2d(34, 32, kernel_size=(3, 3), stride=(1, 1), padding=(1, 1))\n",
       "        (activation): LeakyReLU(negative_slope=0.2)\n",
       "      )\n",
       "      (1): ConvBlock(\n",
       "        (main): Conv2d(32, 16, kernel_size=(3, 3), stride=(1, 1), padding=(1, 1))\n",
       "        (activation): LeakyReLU(negative_slope=0.2)\n",
       "      )\n",
       "    )\n",
       "  )\n",
       "  (flow): Conv2d(16, 2, kernel_size=(3, 3), stride=(1, 1), padding=(1, 1))\n",
       "  (transformer): SpatialTransformer()\n",
       ")"
      ]
     },
     "execution_count": 12,
     "metadata": {},
     "output_type": "execute_result"
    }
   ],
   "source": [
    "device = torch.device('cuda' if torch.cuda.is_available() else 'cpu')\n",
    "print('Using device '+str(device))\n",
    "unet.to(device=device)\n",
    "unet"
   ]
  },
  {
   "cell_type": "markdown",
   "id": "b98f2c14-6863-4081-85d0-03236c739544",
   "metadata": {},
   "source": [
    "### Loss\n",
    "<br/>\n",
    "Given that the displacement $\\phi$ is output from the network,  \n",
    "we need to figure out a loss to tell if it makes sense\n",
    "<br/>\n",
    "In a **supervised setting** we would have ground truth deformations $\\phi_{gt}$,  \n",
    "and we could use a supervised loss like\n",
    "<br/> MSE $= \\| \\phi - \\phi_{gt} \\|$\n",
    "<br/>\n",
    "The main idea in **unsupervised registration** is to use loss inspired by classical registration  \n",
    "\n",
    "Without supervision, how do we know this deformation is good?  \n",
    "(1) make sure that $m \\circ \\phi$ ($m$ warped by $\\phi$) is close to $f$  \n",
    "(2) regularize $\\phi$ (often meaning make sure it's smooth)  \n",
    "<br/>\n",
    "We use two loss :\n",
    "- for (1)  : classic MSE between the fixed image and the image registrated by $\\phi$ (the flow flied output of the network) \n",
    "- for (2) : gradient that regularize $\\phi$ (I overwrite it to match our 2D data, but its already in the voxelmorph code for 3D data)"
   ]
  },
  {
   "cell_type": "code",
   "execution_count": 13,
   "id": "0c40f0b3-ec43-4f1c-93e6-27dda048d158",
   "metadata": {},
   "outputs": [],
   "source": [
    "class Grad:\n",
    "    \"\"\"\n",
    "    N-D gradient loss.\n",
    "    We overwrite this loss for a 2D input\n",
    "    \"\"\"\n",
    "\n",
    "    def __init__(self, penalty='l1', loss_mult=None):\n",
    "        self.penalty = penalty\n",
    "        self.loss_mult = loss_mult\n",
    "\n",
    "    def loss(self, _, y_pred):\n",
    "        dy = torch.abs(y_pred[:, :, 1:, :] - y_pred[:, :, :-1, :])\n",
    "        dx = torch.abs(y_pred[:, :, :, 1:] - y_pred[:, :, :, :-1])\n",
    "\n",
    "        if self.penalty == 'l2':\n",
    "            dy = dy * dy\n",
    "            dx = dx * dx\n",
    "\n",
    "        d = torch.mean(dx) + torch.mean(dy)\n",
    "        grad = d / 3.0\n",
    "\n",
    "        if self.loss_mult is not None:\n",
    "            grad *= self.loss_mult\n",
    "        return grad"
   ]
  },
  {
   "cell_type": "code",
   "execution_count": 14,
   "id": "3d9ee793-0a22-4b44-b64f-d45f15be0a6f",
   "metadata": {},
   "outputs": [],
   "source": [
    "# voxelmorph has a variety of custom loss classes\n",
    "criterion = [vxm.losses.MSE().loss, Grad('l2').loss]\n",
    "\n",
    "# usually, we have to balance the two losses by a hyper-parameter\n",
    "lambda_param = 0.05\n",
    "\n",
    "optimizer=optim.Adam(unet.parameters(), lr=0.001)\n"
   ]
  },
  {
   "cell_type": "markdown",
   "id": "9838718b-a2d8-4c88-ae73-dbe31539fb57",
   "metadata": {},
   "source": [
    "### Training"
   ]
  },
  {
   "cell_type": "code",
   "execution_count": 15,
   "id": "e3533399-27da-4bb8-8a5f-0e2ca8e55634",
   "metadata": {},
   "outputs": [],
   "source": [
    "n_epochs = 15 # number of epochs to train the model\n",
    "\n",
    "def training(n_epochs, train_loader, valid_loader, model, criterion, optimizer, lr_scheduler=None):\n",
    "    \n",
    "    train_losses, valid_losses = [], []\n",
    "  # initialize tracker for minimum validation loss\n",
    "    valid_loss_min = np.Inf  # set initial \"min\" to infinity\n",
    "\n",
    "    for epoch in range(n_epochs):\n",
    "        train_loss, valid_loss = 0, 0 # monitor losses\n",
    "      \n",
    "      # train the model\n",
    "        model.train() # prep model for training\n",
    "        \n",
    "        #remember our dataset gives two images in output\n",
    "        for moved, fixed in train_loader:\n",
    "            moved = moved.to(device=device, dtype=torch.float32)\n",
    "            fixed = fixed.to(device=device, dtype=torch.float32)\n",
    "            optimizer.zero_grad() # clear the gradients of all optimized variables\n",
    "            \n",
    "            #in output of the network we get the flow field and the new image registrated by\n",
    "            #the flow field\n",
    "            registrated, flow_field = model(moved,fixed) \n",
    "\n",
    "            zero_phi = torch.zeros([*flow_field.shape]) #zero gradient for loss, not necessary, but it might be useful with other losses\n",
    "            # calculate the loss, one with the registrated image, one with the flow field\n",
    "            loss = criterion[0](fixed, registrated)+(lambda_param*criterion[1](zero_phi, flow_field)) \n",
    "            loss.backward() # backward pass: compute gradient of the loss with respect to model parameters\n",
    "            optimizer.step() # perform a single optimization step (parameter update)\n",
    "            train_loss += loss.item() * moved.size(0) # update running training loss\n",
    "        if lr_scheduler :\n",
    "            lr_scheduler.step()\n",
    "      \n",
    "      # validate the model\n",
    "        model.eval()\n",
    "        for moved, fixed in valid_loader:\n",
    "            moved = moved.to(device=device, dtype=torch.float32)\n",
    "            fixed = fixed.to(device=device, dtype=torch.float32)\n",
    "            \n",
    "            with torch.no_grad():\n",
    "                registrated, flow_field = model(moved,fixed)\n",
    "            loss = criterion[0](fixed, registrated)+(lambda_param*criterion[1](zero_phi, flow_field))\n",
    "            valid_loss += loss.item() * moved.size(0)\n",
    "      \n",
    "      # calculate average loss over an epoch\n",
    "        train_loss /= len(train_loader.sampler)\n",
    "        valid_loss /= len(valid_loader.sampler)\n",
    "        train_losses.append(train_loss)\n",
    "        valid_losses.append(valid_loss)\n",
    "      \n",
    "        print('epoch: {} \\ttraining Loss: {:.6f} \\tvalidation Loss: {:.6f}'.format(epoch+1, train_loss, valid_loss))\n",
    "\n",
    "      # save model if validation loss has decreased\n",
    "        if valid_loss <= valid_loss_min:\n",
    "            print('validation loss decreased ({:.6f} --> {:.6f}).  Saving model ...'.format(\n",
    "            valid_loss_min,\n",
    "            valid_loss))\n",
    "            torch.save(model.state_dict(), 'model.pt')\n",
    "            valid_loss_min = valid_loss\n",
    "      \n",
    "    return train_losses, valid_losses   "
   ]
  },
  {
   "cell_type": "code",
   "execution_count": 16,
   "id": "fd7b3b86-8a53-4980-ad63-9fab6c721f7f",
   "metadata": {},
   "outputs": [
    {
     "name": "stdout",
     "output_type": "stream",
     "text": [
      "epoch: 1 \ttraining Loss: 0.059697 \tvalidation Loss: 0.035797\n",
      "validation loss decreased (inf --> 0.035797).  Saving model ...\n",
      "epoch: 2 \ttraining Loss: 0.026678 \tvalidation Loss: 0.019959\n",
      "validation loss decreased (0.035797 --> 0.019959).  Saving model ...\n",
      "epoch: 3 \ttraining Loss: 0.017274 \tvalidation Loss: 0.016306\n",
      "validation loss decreased (0.019959 --> 0.016306).  Saving model ...\n",
      "epoch: 4 \ttraining Loss: 0.014412 \tvalidation Loss: 0.013651\n",
      "validation loss decreased (0.016306 --> 0.013651).  Saving model ...\n",
      "epoch: 5 \ttraining Loss: 0.012786 \tvalidation Loss: 0.012108\n",
      "validation loss decreased (0.013651 --> 0.012108).  Saving model ...\n",
      "epoch: 6 \ttraining Loss: 0.011683 \tvalidation Loss: 0.011345\n",
      "validation loss decreased (0.012108 --> 0.011345).  Saving model ...\n",
      "epoch: 7 \ttraining Loss: 0.011198 \tvalidation Loss: 0.010830\n",
      "validation loss decreased (0.011345 --> 0.010830).  Saving model ...\n",
      "epoch: 8 \ttraining Loss: 0.010162 \tvalidation Loss: 0.010132\n",
      "validation loss decreased (0.010830 --> 0.010132).  Saving model ...\n",
      "epoch: 9 \ttraining Loss: 0.009719 \tvalidation Loss: 0.009628\n",
      "validation loss decreased (0.010132 --> 0.009628).  Saving model ...\n",
      "epoch: 10 \ttraining Loss: 0.009567 \tvalidation Loss: 0.009611\n",
      "validation loss decreased (0.009628 --> 0.009611).  Saving model ...\n",
      "epoch: 11 \ttraining Loss: 0.009318 \tvalidation Loss: 0.009320\n",
      "validation loss decreased (0.009611 --> 0.009320).  Saving model ...\n",
      "epoch: 12 \ttraining Loss: 0.008712 \tvalidation Loss: 0.008888\n",
      "validation loss decreased (0.009320 --> 0.008888).  Saving model ...\n",
      "epoch: 13 \ttraining Loss: 0.008680 \tvalidation Loss: 0.008784\n",
      "validation loss decreased (0.008888 --> 0.008784).  Saving model ...\n",
      "epoch: 14 \ttraining Loss: 0.008580 \tvalidation Loss: 0.008613\n",
      "validation loss decreased (0.008784 --> 0.008613).  Saving model ...\n",
      "epoch: 15 \ttraining Loss: 0.008473 \tvalidation Loss: 0.008393\n",
      "validation loss decreased (0.008613 --> 0.008393).  Saving model ...\n"
     ]
    }
   ],
   "source": [
    "#RUN THE TRAINING FUNCTION\n",
    "train_losses_mnist, valid_losses_mnist =training(n_epochs, \n",
    "                                         train_loader, \n",
    "                                         valid_loader, \n",
    "                                         unet, \n",
    "                                         criterion, \n",
    "                                         optimizer)"
   ]
  },
  {
   "cell_type": "code",
   "execution_count": 17,
   "id": "b02f2429-cd7f-4acb-9678-e2f8af78c3c8",
   "metadata": {},
   "outputs": [
    {
     "data": {
      "text/plain": [
       "Text(0, 0.5, 'loss value')"
      ]
     },
     "execution_count": 17,
     "metadata": {},
     "output_type": "execute_result"
    },
    {
     "data": {
      "image/png": "[encoded data removed]",
      "text/plain": [
       "<Figure size 432x288 with 1 Axes>"
      ]
     },
     "metadata": {
      "needs_background": "light"
     },
     "output_type": "display_data"
    }
   ],
   "source": [
    "plt.plot(range(n_epochs), train_losses_mnist)\n",
    "plt.plot(range(n_epochs), valid_losses_mnist)\n",
    "plt.legend(['train', 'validation'], prop={'size': 10})\n",
    "plt.title('loss function', size=10)\n",
    "plt.xlabel('epoch', size=10)\n",
    "plt.ylabel('loss value', size=10)"
   ]
  },
  {
   "cell_type": "code",
   "execution_count": 18,
   "id": "399f80a2-4ec2-442e-99f0-1567329abebf",
   "metadata": {},
   "outputs": [
    {
     "data": {
      "text/plain": [
       "<All keys matched successfully>"
      ]
     },
     "execution_count": 18,
     "metadata": {},
     "output_type": "execute_result"
    }
   ],
   "source": [
    "unet.load_state_dict(torch.load('model.pt', map_location=device))"
   ]
  },
  {
   "cell_type": "markdown",
   "id": "cc1e2211-5344-46eb-b3d7-4264defb7581",
   "metadata": {},
   "source": [
    "## Plot results"
   ]
  },
  {
   "cell_type": "code",
   "execution_count": 19,
   "id": "1ed6eebc-8845-476f-8add-6aeb2dfce1d8",
   "metadata": {},
   "outputs": [],
   "source": [
    "#get some result about our model for plotting\n",
    "def get_all_registration(model, loader): \n",
    "    inputs = {\"moved\":torch.tensor([], dtype=torch.float32),\"fixed\":torch.tensor([], dtype=torch.float32)}\n",
    "    outputs= {\"registrated\":torch.tensor([], dtype=torch.float32),\"flow_field\":torch.tensor([], dtype=torch.float32)}\n",
    "    for i,(moved, fixed) in enumerate(loader):\n",
    "        moved = moved.to(device=device, dtype=torch.float32)\n",
    "        fixed = fixed.to(device=device, dtype=torch.float32)\n",
    "        with torch.no_grad():\n",
    "            registrated, flow_field = model(moved,fixed)\n",
    "            \n",
    "        inputs[\"fixed\"] = torch.cat((inputs[\"fixed\"],fixed),dim=0)\n",
    "        inputs[\"moved\"] = torch.cat((inputs[\"moved\"],moved),dim=0)\n",
    "        outputs[\"registrated\"] = torch.cat((outputs[\"registrated\"],registrated),dim=0)\n",
    "        outputs[\"flow_field\"] = torch.cat((outputs[\"flow_field\"],flow_field),dim=0)\n",
    "     \n",
    "    inputs[\"fixed\"] = fixed.numpy()\n",
    "    inputs[\"moved\"] = moved.numpy()\n",
    "    outputs[\"registrated\"] = registrated.numpy()\n",
    "    outputs[\"flow_field\"] = flow_field.numpy()     \n",
    "    return inputs, outputs"
   ]
  },
  {
   "cell_type": "code",
   "execution_count": 20,
   "id": "9dc3cc3d-5f34-4c3d-9a97-dc9fcefd2dad",
   "metadata": {},
   "outputs": [
    {
     "data": {
      "image/png": "[encoded data removed]",
      "text/plain": [
       "<Figure size 720x1080 with 3 Axes>"
      ]
     },
     "metadata": {
      "needs_background": "light"
     },
     "output_type": "display_data"
    }
   ],
   "source": [
    "inputs, outputs=get_all_registration(unet, test_loader)\n",
    "\n",
    "plt.figure(figsize=(10,15))\n",
    "\n",
    "plt.subplot(131)\n",
    "plt.imshow(inputs[\"fixed\"][0].reshape((32,32)),cmap='gray')\n",
    "plt.title(\"fixed image\")\n",
    "\n",
    "plt.subplot(132)\n",
    "plt.imshow(inputs[\"moved\"][0].reshape((32,32)),cmap='gray')\n",
    "plt.title(\"moved image\")\n",
    "\n",
    "plt.subplot(133)\n",
    "plt.imshow(outputs[\"registrated\"][0].reshape((32,32)),cmap='gray')\n",
    "plt.title(\"registrated image\")\n",
    "\n",
    "plt.show()"
   ]
  },
  {
   "cell_type": "code",
   "execution_count": 21,
   "id": "6c9a0c45-c114-4469-96f2-58fe9a9551c8",
   "metadata": {},
   "outputs": [
    {
     "data": {
      "image/png": "[encoded data removed]",
      "text/plain": [
       "<Figure size 432x288 with 1 Axes>"
      ]
     },
     "metadata": {
      "needs_background": "light"
     },
     "output_type": "display_data"
    }
   ],
   "source": [
    "x,y = np.meshgrid(np.linspace(0,1,32),np.linspace(0,1,32))\n",
    "u,v = outputs[\"flow_field\"][0][0].reshape(32,32),outputs[\"flow_field\"][0][1].reshape(32,32)\n",
    "plt.quiver(x,y,u,v)\n",
    "plt.title(\"flow field\")\n",
    "plt.show()"
   ]
  },
  {
   "cell_type": "markdown",
   "id": "c42c0d4a-09b1-4270-98d7-c0ccf2217d96",
   "metadata": {},
   "source": [
    "## Handle many channels\n",
    "<br/>\n",
    "\n",
    "One thing to note is that with 3D scanners, the input format is the following : (batch_size, channel=2, Height,Witdh,Lenght)\n",
    "<br/>  \n",
    "But when you want to \"vectorize\" the data (with 3D vectors instead of singular point as basic elements in the scanners) you have to triple the channel size (as if you were handling with rgb data).\n",
    "<br/>\n",
    "batch_size, channel=6, Height,Witdh,Lenght\n",
    "<br/>\n",
    "Fortunately, Voxelmorph handles that case, you just need to precise it at the creation of the model :"
   ]
  },
  {
   "cell_type": "code",
   "execution_count": null,
   "id": "6160eaf4-39d2-4128-afc4-9fbd97adc9e8",
   "metadata": {},
   "outputs": [],
   "source": [
    "net_with_channel=vxm.networks.VxmDense(inshape='inshape',\n",
    "                                         nb_unet_features=['encoder', 'decoder'],\n",
    "                                         src_feats='channel_moving_image',\n",
    "                                        trg_feats='channel_fixed_image')"
   ]
  },
  {
   "cell_type": "markdown",
   "id": "6681949b-ba79-4647-8f5a-1b10cfd3a07e",
   "metadata": {},
   "source": [
    "### But.. there is a little trick : \n",
    "<br/>\n",
    "src_feats and trg_feats needs to be set at 1 when you have \"normal\" data and 3 when you have \"vectorized\" (you can even try to vectorize only the moving image or the fixed one etc..). \n",
    "<br/>  \n",
    "The main trap is that it's a features implement in the github but not in the vxm files you have installed. \n",
    "The file\n",
    "<br/> \n",
    "\n",
    "[networks](https://github.com/voxelmorph/voxelmorph/blob/dev/voxelmorph/torch/networks.py)\n",
    "<br/>\n",
    "in the pytorch branch of github is not the same you have upload with the pip install. \n",
    "To solve this you just need to find the voxelmorph files in your python librairies and replace the voxelmorph/torch/networks.py by the one from the github."
   ]
  }
 ],
 "metadata": {
  "kernelspec": {
   "display_name": "Python 3 (ipykernel)",
   "language": "python",
   "name": "python3"
  },
  "language_info": {
   "codemirror_mode": {
    "name": "ipython",
    "version": 3
   },
   "file_extension": ".py",
   "mimetype": "text/x-python",
   "name": "python",
   "nbconvert_exporter": "python",
   "pygments_lexer": "ipython3",
   "version": "3.8.10"
  }
 },
 "nbformat": 4,
 "nbformat_minor": 5
}
